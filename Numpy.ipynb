{
  "cells": [
    {
      "cell_type": "markdown",
      "metadata": {
        "id": "w3_Vv3X4ucHl"
      },
      "source": [
        "### Imports"
      ]
    },
    {
      "cell_type": "code",
      "execution_count": 3,
      "metadata": {
        "id": "4uVBntYpubYJ"
      },
      "outputs": [],
      "source": [
        "import numpy as np\n",
        "import pandas as pd"
      ]
    },
    {
      "cell_type": "markdown",
      "metadata": {
        "id": "eM0uE5GSt_t5"
      },
      "source": [
        "# **Data Structure**\n",
        "    Way of storing Data in an organised way\n",
        "    E.g.- Array\n"
      ]
    },
    {
      "cell_type": "markdown",
      "metadata": {
        "id": "9oDF2fUEwwxe"
      },
      "source": [
        "Numpy Arrays - a grid of values (all of the same type), indexed by a tuple of non-negative integers. Also known as ndarray (n-dimensional array).\n",
        "  \n",
        "  Fundamental data structue provided by numpy\n",
        "\n",
        "  Features-\n",
        "      \n",
        "      Less memory usage\n",
        "      \n",
        "      Faster Performance\n",
        "      \n",
        "      Vectorized Operations\n",
        "      \n",
        "      Powerful Functionality\n",
        "          \n",
        "          Mathematical Operations\n",
        "          \n",
        "          Statistics\n",
        "          \n",
        "          Linear Algebra\n",
        "\n"
      ]
    },
    {
      "cell_type": "code",
      "execution_count": 4,
      "metadata": {
        "id": "A1zo0YV2xSd2"
      },
      "outputs": [
        {
          "name": "stdout",
          "output_type": "stream",
          "text": [
            "[1 2 3 4 5]\n"
          ]
        }
      ],
      "source": [
        "#create and manipulate NumPy arrays and Pandas DataFrames to perform basic data operations.\n",
        "#Create Folder with name experiments and create a virtual env for it\n",
        "arr=np.array([1,2,3,4,5])\n",
        "print(arr)"
      ]
    },
    {
      "cell_type": "markdown",
      "metadata": {},
      "source": [
        "Attributes of NumPy arrays\n",
        "\n",
        "    arr.shape # returns the shape (dimensions)\n",
        "\n",
        "    arr.ndim # returns number of dimensions\n",
        "\n",
        "    arr.size # returns Total number of elements\n",
        "\n",
        "    arr.dtype # Data type of elements"
      ]
    },
    {
      "cell_type": "code",
      "execution_count": 5,
      "metadata": {},
      "outputs": [
        {
          "name": "stdout",
          "output_type": "stream",
          "text": [
            "Shape of 1D arr: (4,)\n",
            "Shape of 2D arr: (2, 3)\n",
            "Dimensions of 1D arr: 1\n",
            "Dimensions of 2D arr: 2\n",
            "Total number of elements in 1D arr: 4\n",
            "Total number of elements in 2D arr: 6\n",
            "Data type of elements in 1D arr: int64\n",
            "Data type of elements in 2D arr: int64\n"
          ]
        }
      ],
      "source": [
        "arr=np.array([1,2,3,4])\n",
        "arr2D=np.array([[1,2,3],[4,5,6]])\n",
        "print(f\"Shape of 1D arr: {arr.shape}\")\n",
        "print(f\"Shape of 2D arr: {arr2D.shape}\")\n",
        "print(f\"Dimensions of 1D arr: {arr.ndim}\")\n",
        "print(f\"Dimensions of 2D arr: {arr2D.ndim}\")\n",
        "print(f\"Total number of elements in 1D arr: {arr.size}\")\n",
        "print(f\"Total number of elements in 2D arr: {arr2D.size}\")\n",
        "print(f\"Data type of elements in 1D arr: {arr.dtype}\")\n",
        "print(f\"Data type of elements in 2D arr: {arr2D.dtype}\")"
      ]
    },
    {
      "cell_type": "markdown",
      "metadata": {},
      "source": [
        "Array only stores homogenous elements \n",
        "\n",
        "So it will change the datatype of the elements automatically in order to make it a match"
      ]
    },
    {
      "cell_type": "code",
      "execution_count": 8,
      "metadata": {},
      "outputs": [
        {
          "name": "stdout",
          "output_type": "stream",
          "text": [
            "How the numpy arrays change the DataType: ['2' '3' 'A' '4.5']\n"
          ]
        }
      ],
      "source": [
        "arr3=np.array([2,3,'A',4.5])\n",
        "print(f\"How the numpy arrays change the DataType: {arr3}\")"
      ]
    },
    {
      "cell_type": "markdown",
      "metadata": {},
      "source": [
        "Basic Operations to be Performed on a Numpy Array"
      ]
    },
    {
      "cell_type": "code",
      "execution_count": 9,
      "metadata": {},
      "outputs": [
        {
          "name": "stdout",
          "output_type": "stream",
          "text": [
            "Addition: [ 4  6  8 10]\n",
            "Multiplication: [ 4  8 12 16]\n",
            "Mean of elements of Array: 5.0\n",
            "Sum of Elements: 20\n"
          ]
        }
      ],
      "source": [
        "#Basic Operations\n",
        "\n",
        "arr1 = np.array([2,4,6,8])\n",
        "print(f\"Addition: {arr1+2}\")\n",
        "print(f\"Multiplication: {arr1*2}\")\n",
        "print(f\"Mean of elements of Array: {arr1.mean()}\")\n",
        "print(f\"Sum of Elements: {arr1.sum()}\")"
      ]
    },
    {
      "cell_type": "code",
      "execution_count": 10,
      "metadata": {},
      "outputs": [
        {
          "name": "stdout",
          "output_type": "stream",
          "text": [
            "Addition of two arrays: [5 7 9]\n",
            "Multiplication of two arrays: [ 4 10 18]\n",
            "mean of Array a: 2.0\n"
          ]
        }
      ],
      "source": [
        "a=np.array([1,2,3])\n",
        "b=np.array([4,5,6])\n",
        "print(f\"Addition of two arrays: {a+b}\")\n",
        "print(f\"Multiplication of two arrays: {a*b}\")\n",
        "print(f\"mean of Array a: {np.mean(a)}\")"
      ]
    },
    {
      "cell_type": "markdown",
      "metadata": {},
      "source": [
        "Slicing of an Array"
      ]
    },
    {
      "cell_type": "code",
      "execution_count": 11,
      "metadata": {},
      "outputs": [
        {
          "name": "stdout",
          "output_type": "stream",
          "text": [
            "First two Elements: [2 4]\n"
          ]
        }
      ],
      "source": [
        "#Slicing\n",
        "\n",
        "arr1=np.array([2,4,6,8])\n",
        "print(f\"First two Elements: {arr1[:2]}\")"
      ]
    },
    {
      "cell_type": "code",
      "execution_count": null,
      "metadata": {},
      "outputs": [],
      "source": []
    }
  ],
  "metadata": {
    "colab": {
      "provenance": []
    },
    "kernelspec": {
      "display_name": "Experiments",
      "language": "python",
      "name": "python3"
    },
    "language_info": {
      "codemirror_mode": {
        "name": "ipython",
        "version": 3
      },
      "file_extension": ".py",
      "mimetype": "text/x-python",
      "name": "python",
      "nbconvert_exporter": "python",
      "pygments_lexer": "ipython3",
      "version": "3.13.1"
    }
  },
  "nbformat": 4,
  "nbformat_minor": 0
}
